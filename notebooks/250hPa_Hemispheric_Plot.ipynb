{
 "cells": [
  {
   "cell_type": "markdown",
   "metadata": {
    "cell_marker": "\"\"\"",
    "lines_to_next_cell": 0
   },
   "source": [
    "A 250-hPa Hemispheric Map using Python\n",
    "======================================\n",
    "\n",
    "This example plots a hemispheric plot of GFS 250-hPa Geopotential Heights and\n",
    "wind speed in knots."
   ]
  },
  {
   "cell_type": "code",
   "execution_count": null,
   "metadata": {},
   "outputs": [],
   "source": [
    "from datetime import datetime\n",
    "\n",
    "import cartopy.crs as ccrs\n",
    "import cartopy.feature as cfeature\n",
    "import cartopy.util as cutil\n",
    "import matplotlib.gridspec as gridspec\n",
    "import matplotlib.pyplot as plt\n",
    "import metpy.calc as mpcalc\n",
    "from metpy.units import units\n",
    "from netCDF4 import num2date\n",
    "import numpy as np\n",
    "import scipy.ndimage as ndimage\n",
    "from siphon.catalog import TDSCatalog\n",
    "from siphon.ncss import NCSS\n",
    "\n",
    "# Latest GFS Dataset\n",
    "cat = TDSCatalog('https://tds.scigw.unidata.ucar.edu/thredds/catalog/grib/'\n",
    "                 'NCEP/GFS/Global_0p5deg/latest.xml')\n",
    "best_ds = list(cat.datasets.values())[0]\n",
    "ncss = NCSS(best_ds.access_urls['NetcdfSubset'])\n",
    "\n",
    "# Set the time to current\n",
    "now = datetime.utcnow()\n",
    "\n",
    "# Query for Latest GFS Run\n",
    "gfsdata_hght = ncss.query().time(now).accept('netcdf4')\n",
    "gfsdata_hght.variables('Geopotential_height_isobaric').add_lonlat()\n",
    "\n",
    "# Set the lat/lon box for the data you want to pull in.\n",
    "# lonlat_box(north_lat,south_lat,east_lon,west_lon)\n",
    "gfsdata_hght.lonlat_box(0, 360, 0, 90)\n",
    "\n",
    "# Set desired level 50000 = 50000 Pa = 500 hPa\n",
    "gfsdata_hght.vertical_level(25000)\n",
    "\n",
    "# Actually getting the data\n",
    "data_hght = ncss.get_data(gfsdata_hght)\n",
    "\n",
    "# Query for Latest GFS Run\n",
    "gfsdata_wind = ncss.query().time(now).accept('netcdf4')\n",
    "gfsdata_wind.variables('u-component_of_wind_isobaric',\n",
    "                       'v-component_of_wind_isobaric').add_lonlat()\n",
    "\n",
    "# Set the lat/lon box for the data you want to pull in.\n",
    "# lonlat_box(north_lat,south_lat,east_lon,west_lon)\n",
    "gfsdata_wind.lonlat_box(0, 360, 0, 90)\n",
    "\n",
    "# Set desired level 50000 = 50000 Pa = 500 hPa\n",
    "gfsdata_wind.vertical_level(25000)\n",
    "\n",
    "# Actually getting the data\n",
    "data_wind = ncss.get_data(gfsdata_wind)"
   ]
  },
  {
   "cell_type": "markdown",
   "metadata": {
    "cell_marker": "#################################################"
   },
   "source": [
    "The next cell will take the downloaded data and parse it to different variables\n",
    "for use later on. Add a cyclic point using the cartopy utility add_cyclic_point\n",
    "to the longitudes (the cyclic dimension) as well as any data that is being\n",
    "contoured or filled."
   ]
  },
  {
   "cell_type": "code",
   "execution_count": null,
   "metadata": {},
   "outputs": [],
   "source": [
    "dtime = data_hght.variables['Geopotential_height_isobaric'].dimensions[0]\n",
    "dlat = data_hght.variables['Geopotential_height_isobaric'].dimensions[2]\n",
    "dlon = data_hght.variables['Geopotential_height_isobaric'].dimensions[3]\n",
    "lat = data_hght.variables[dlat][:]\n",
    "lon = data_hght.variables[dlon][:]\n",
    "\n",
    "# Converting times using the num2date function available through netCDF4\n",
    "times = data_hght.variables[dtime]\n",
    "vtimes = num2date(times[:], times.units)\n",
    "\n",
    "# Smooth the 250-hPa heights using a gaussian filter from scipy.ndimage\n",
    "hgt_250, lon = cutil.add_cyclic_point(data_hght.variables['Geopotential_height_isobaric'][:],\n",
    "                                      coord=lon)\n",
    "Z_250 = ndimage.gaussian_filter(hgt_250[0, 0, :, :], sigma=3, order=0)\n",
    "\n",
    "u250 = (units(data_wind.variables['u-component_of_wind_isobaric'].units) *\n",
    "        data_wind.variables['u-component_of_wind_isobaric'][0, 0, :, :])\n",
    "v250 = (units(data_wind.variables['v-component_of_wind_isobaric'].units) *\n",
    "        data_wind.variables['v-component_of_wind_isobaric'][0, 0, :, :])\n",
    "u250 = u250.units * cutil.add_cyclic_point(u250)\n",
    "v250 = v250.units * cutil.add_cyclic_point(v250)\n",
    "wspd250 = mpcalc.wind_speed(u250, v250).to('knots')"
   ]
  },
  {
   "cell_type": "markdown",
   "metadata": {
    "cell_marker": "#################################################",
    "lines_to_next_cell": 0
   },
   "source": [
    "The next cell sets up the geographic details for the plot that we are going to do later.\n",
    "This is done using the Cartopy package. We will also bring in some geographic data to\n",
    "geo-reference the image for us."
   ]
  },
  {
   "cell_type": "code",
   "execution_count": null,
   "metadata": {},
   "outputs": [],
   "source": [
    "datacrs = ccrs.PlateCarree()\n",
    "plotcrs = ccrs.NorthPolarStereo(central_longitude=-100.0)\n",
    "\n",
    "# Make a grid of lat/lon values to use for plotting with Basemap.\n",
    "lons, lats = np.meshgrid(lon, lat)\n",
    "\n",
    "fig = plt.figure(1, figsize=(12., 13.))\n",
    "gs = gridspec.GridSpec(2, 1, height_ratios=[1, .02],\n",
    "                       bottom=.07, top=.99, hspace=0.01, wspace=0.01)\n",
    "\n",
    "ax = plt.subplot(gs[0], projection=plotcrs)\n",
    "ax.set_title('250-hPa Geopotential Heights (m)', loc='left')\n",
    "ax.set_title('VALID: {}'.format(vtimes[0]), loc='right')\n",
    "\n",
    "#   ax.set_extent([west long, east long, south lat, north lat])\n",
    "ax.set_extent([-180, 180, 10, 90], ccrs.PlateCarree())\n",
    "ax.coastlines('50m', edgecolor='black', linewidth=0.5)\n",
    "ax.add_feature(cfeature.STATES, linewidth=0.5)\n",
    "\n",
    "clev250 = np.arange(9000, 12000, 120)\n",
    "cs = ax.contour(lons, lats, Z_250, clev250, colors='k',\n",
    "                linewidths=1.0, linestyles='solid', transform=datacrs)\n",
    "plt.clabel(cs, fontsize=8, inline=1, inline_spacing=10, fmt='%i',\n",
    "           rightside_up=True, use_clabeltext=True)\n",
    "\n",
    "clevsped250 = np.arange(50, 230, 20)\n",
    "cmap = plt.cm.get_cmap('BuPu')\n",
    "cf = ax.contourf(lons, lats, wspd250, clevsped250, cmap=cmap, transform=datacrs)\n",
    "cax = plt.subplot(gs[1])\n",
    "cbar = plt.colorbar(cf, cax=cax, orientation='horizontal', extend='max', extendrect=True)"
   ]
  }
 ],
 "metadata": {
  "kernelspec": {
   "display_name": "Python [conda env:uncc-workshop-2020]",
   "language": "python",
   "name": "conda-env-uncc-workshop-2020-py"
  },
  "language_info": {
   "codemirror_mode": {
    "name": "ipython",
    "version": 3
   },
   "file_extension": ".py",
   "mimetype": "text/x-python",
   "name": "python",
   "nbconvert_exporter": "python",
   "pygments_lexer": "ipython3",
   "version": "3.8.0"
  }
 },
 "nbformat": 4,
 "nbformat_minor": 4
}
